{
 "cells": [
  {
   "cell_type": "markdown",
   "metadata": {},
   "source": [
    "<img src=\"img/banner_bioudea.png\">"
   ]
  },
  {
   "cell_type": "markdown",
   "metadata": {},
   "source": [
    "## Manejo de archivos: CSV, JSON y XML"
   ]
  },
  {
   "cell_type": "markdown",
   "metadata": {},
   "source": [
    "### CSV -  Comma Separated Values\n",
    "\n",
    "El formato CSV requiere que cada elemento del conjunto se presente en una línea. Dentro de esa línea, cada uno de los atributos del elemento debe estar separado por un único caracter (_separador_), que habitualmente es una coma, y seguir siempre el mismo orden. Además, la primera línea del fichero, casi siempre se le llama cabecera, no contiene datos de ningún elemento, sino la información de los atributos.\n",
    "\n",
    "Por ejemplo, guardar los resultados de las pruebas del perfil lipídico de pacientes en formato CSV\n",
    "\n",
    "\n",
    "<img src=\"img/csv.png\" width=\"500px\">\n",
    "\n",
    "En el caso anterior es fácil la separación y visualziación de los datos con este formato. Pero ¿y si los resultados fueran cuantitativas y requirieran un separador flotante y que este fuera la coma (64,5)?\n",
    "El formato del fichero no es capaz de distinguir entre la coma del flotante y la coma que separa los distintos atributos, y podría pensar que hay dos resultados: $64$ y $5$.\n",
    "\n",
    "Lo anterior se puede solucionar de dos maneras. <b>En primer lugar</b>, es posible crear un valor único encerrándolo entre comillas, por lo que tendríamos:\n",
    "\n",
    "<img src=\"img/csv2.png\" width=\"600px\">\n",
    "\n",
    "\n",
    "En este caso, entendemos que el atributo es un único valor de tipo cadena de texto ($str$) y por tanto no debe partirse.\n",
    "\n",
    "<b>La segunda opción</b> consiste en cambiar la coma, separando los valores por otro símbolo con el que se tenga la centeza de que no aparece en el resto del fichero, como un punto o un tabulador. Esta opción puede presentar problemas si no se conoce bien el archivo, por lo que es recomendable usar las comillas.\n",
    "\n",
    "\n",
    "Usando punto y coma (;) como separador de atributos\n",
    "<img src=\"img/csv3.png\" width=\"600px\">\n",
    "\n",
    "\n",
    "Usando tabulación (\\t) como separador de atributos\n",
    "<img src=\"img/csv4.png\" width=\"600px\">"
   ]
  },
  {
   "cell_type": "code",
   "execution_count": null,
   "metadata": {},
   "outputs": [],
   "source": []
  },
  {
   "cell_type": "markdown",
   "metadata": {},
   "source": [
    "## Manejo de CSV con Python\n",
    "\n",
    "- Estándar intenacional <a href=\"https://datatracker.ietf.org/doc/html/rfc4180.html\" target=\"_blank\">RFC 4180</a>\n",
    "- <a href=\"https://www.python.org/dev/peps/pep-0305/\" target=\"_blank\">PEP 305</a> - API de archivo CSV. La Propuesta de Mejora de Python (PEP, por sus siglas en inglés) que propone esta adición a Python.<br>\n",
    "<a href=\"https://www.python.org/dev/peps/\" target=\"_blank\">PEP: Python Enhancement Proposal.</a>"
   ]
  },
  {
   "cell_type": "markdown",
   "metadata": {},
   "source": [
    "### Importación del módulo"
   ]
  },
  {
   "cell_type": "code",
   "execution_count": null,
   "metadata": {},
   "outputs": [],
   "source": [
    "import csv"
   ]
  },
  {
   "cell_type": "markdown",
   "metadata": {},
   "source": [
    "### Método $reader()$"
   ]
  },
  {
   "cell_type": "code",
   "execution_count": null,
   "metadata": {},
   "outputs": [],
   "source": [
    "file = open('data/Casos_positivos_de_Covid-19_en_el_departamento_de_Antioquia_20240229.csv' , encoding='utf-8')\n",
    "content = csv.reader(file , delimiter=',')\n",
    "for row in content:\n",
    "    print(row)\n",
    "file.close()"
   ]
  },
  {
   "cell_type": "code",
   "execution_count": null,
   "metadata": {},
   "outputs": [],
   "source": [
    "content"
   ]
  },
  {
   "cell_type": "markdown",
   "metadata": {},
   "source": [
    "#### Número de líneas en el archivo leñido"
   ]
  },
  {
   "cell_type": "code",
   "execution_count": null,
   "metadata": {},
   "outputs": [],
   "source": [
    "content.line_num"
   ]
  },
  {
   "cell_type": "markdown",
   "metadata": {},
   "source": [
    "#### Tratemos de darle un vistazo con otras herramientas"
   ]
  },
  {
   "cell_type": "code",
   "execution_count": null,
   "metadata": {},
   "outputs": [],
   "source": [
    "csvfile = open('data/Casos_positivos_de_Covid-19_en_el_departamento_de_Antioquia_20240229.csv' , encoding='utf-8')\n",
    "content = csv.reader(csvfile, delimiter=',')\n",
    "i = 1\n",
    "for row in content:\n",
    "    if i==1:\n",
    "        header = row\n",
    "    elif i==2:\n",
    "        break\n",
    "    i+=1\n",
    "dic = dict(zip(header , row))\n",
    "dic"
   ]
  },
  {
   "cell_type": "code",
   "execution_count": null,
   "metadata": {
    "scrolled": true
   },
   "outputs": [],
   "source": [
    "import csv\n",
    "cont = 0\n",
    "f = 0\n",
    "m = 0\n",
    "edad = 0\n",
    "e  = []\n",
    "csvfile =  open('data/Casos_positivos_de_Covid-19_en_el_departamento_de_Antioquia_20240229.csv' , encoding='utf-8')\n",
    "content = csv.reader(csvfile, delimiter=',')\n",
    "for row in content:\n",
    "    \n",
    "    ## Desarrolle su algoritmo para imprimir:\n",
    "    # Número de hombre\n",
    "    # Número de mujeres\n",
    "    # Promedio de edades\n",
    "    # Edad Máxima\n",
    "    # Edad Mínima\n",
    "        \n",
    "print('HOMBRES: ', m)\n",
    "print('MUJERES: ', f)\n",
    "print('PROMEDIO DE EDADES: ' , prom_edad)\n",
    "print('MAX: ' , max(e))\n",
    "print('MIN: ' , min(e))"
   ]
  },
  {
   "cell_type": "markdown",
   "metadata": {},
   "source": [
    "### Método $writer()$"
   ]
  },
  {
   "cell_type": "markdown",
   "metadata": {},
   "source": [
    "$.CSV$ en forma tradicional"
   ]
  },
  {
   "cell_type": "code",
   "execution_count": null,
   "metadata": {},
   "outputs": [],
   "source": [
    "csvfile = open('data/archivo_csv1.csv', 'w', encoding='ISO-8859-1', newline='')\n",
    "liswriter = csv.writer(csvfile, delimiter=',' )\n",
    "liswriter.writerow([1 , 1234567890 , 'Juana María' , 'De Arco' , 110.2 , 65 , 50.2 , 115.1])\n",
    "liswriter.writerow([2 , 1122334455 , 'Camilo Andrés' , 'Duque Ruiz' , 123.8 , 55.4 , 33.2 , 175.1])\n",
    "csvfile.close()"
   ]
  },
  {
   "cell_type": "markdown",
   "metadata": {},
   "source": [
    "$.CSV$ usando diccionarios"
   ]
  },
  {
   "cell_type": "code",
   "execution_count": null,
   "metadata": {},
   "outputs": [],
   "source": [
    "file = open('data/archivo_csv2.csv', 'w', encoding='ISO-8859-1' , newline='') # 'utf-8' , 'ISO-8859-1'\n",
    "nombres_campos = ['id', 'doc_id','Nombre','Apellidos','COL TOTAL' , 'HDL','LDL','TRIG']\n",
    "writer = csv.DictWriter(file, fieldnames=nombres_campos)\n",
    "\n",
    "writer.writeheader()\n",
    "writer.writerow({'id':1 , 'doc_id':123456789 , 'Nombre': 'Carlos Andrés', 'Apellidos': 'Gutierrez Medina'\n",
    "                 ,'COL TOTAL':110.2 , 'HDL':65 , 'LDL':50.2 , 'TRIG':115.1})\n",
    "writer.writerow({'id':2 , 'doc_id':1122334455 , 'Nombre': 'Maria Cristina', 'Apellidos': 'Marín Ortiz'\n",
    "                 ,'COL TOTAL':123.8 , 'HDL':55.4 , 'LDL':33.2 , 'TRIG':175.1})\n",
    "file.close()"
   ]
  },
  {
   "cell_type": "markdown",
   "metadata": {},
   "source": [
    "#### También se puede usar el método $with$ para escribir un archivo"
   ]
  },
  {
   "cell_type": "code",
   "execution_count": null,
   "metadata": {},
   "outputs": [],
   "source": [
    "file = open('data/archivo_csv2.csv', 'a', encoding='ISO-8859-1' , newline='') # 'utf-8' , 'ISO-8859-1'\n",
    "nombres_campos = ['id', 'doc_id','Nombre','Apellidos','COL TOTAL' , 'HDL','LDL','TRIG']\n",
    "writer = csv.DictWriter(file, fieldnames=nombres_campos)\n",
    "\n",
    "#writer.writeheader()\n",
    "writer.writerows([{'id':3 , 'doc_id':123456789 , 'Nombre': 'Carlos Andrés', 'Apellidos': 'Gutierrez Medina'\n",
    "                 ,'COL TOTAL':110.2 , 'HDL':65 , 'LDL':50.2 , 'TRIG':115.1},{'id':4 , 'doc_id':1122334455 , 'Nombre': 'Maria Cristina', 'Apellidos': 'Marín Ortiz'\n",
    "                 ,'COL TOTAL':123.8 , 'HDL':55.4 , 'LDL':33.2 , 'TRIG':175.1}])\n",
    "\n",
    "file.close()"
   ]
  },
  {
   "cell_type": "markdown",
   "metadata": {},
   "source": [
    "#### NOTA:\n",
    "Se debe tener en cuenta que el uso del modo de apertura $'w'$ crear el archivo desde cero, es decir, si existe, este es reemplazado por el archivo nuevo con la información nueva."
   ]
  },
  {
   "cell_type": "markdown",
   "metadata": {},
   "source": [
    "#### Se puede usar entonces el modo de apertura $'a'$ del los archivos con la función $open()$"
   ]
  },
  {
   "cell_type": "code",
   "execution_count": null,
   "metadata": {},
   "outputs": [],
   "source": [
    "csvfile = open('data/archivo_csv3.csv', 'a' , encoding='ISO-8859-1', newline='')\n",
    "fieldnames = ['Nombre','Apellidos']\n",
    "writer = csv.DictWriter(csvfile, fieldnames=fieldnames)\n",
    "writer.writeheader()\n",
    "writer.writerow({'Nombre': 'Karla', 'Apellidos': 'Martínez Ladino'})\n",
    "csvfile.close()"
   ]
  },
  {
   "cell_type": "code",
   "execution_count": null,
   "metadata": {},
   "outputs": [],
   "source": []
  },
  {
   "cell_type": "markdown",
   "metadata": {},
   "source": [
    "# $JSON$\n",
    "\n",
    "Es un formato de texto sencillo para el intercambio de datos. Se trata de un subconjunto de la notación literal de objetos de JavaScript. Debido a su amplia utilización, JSON es un formato de texto que es completamente independiente del lenguaje pero utiliza convenciones que son ampliamente conocidos por los programadores de la familia de lenguajes C, incluyendo C, C++, C#, Java, JavaScript, Perl, Python, y muchos otros. Estas propiedades hacen que JSON sea un lenguaje ideal para el intercambio de datos.\n",
    "\n",
    "<a href=\"https://www.json.org/json-es.html\" target=\"_blank\">Link de documentación JSON</a>\n",
    "\n",
    "\n",
    "<a href=\"https://www.datos.gov.co/resource/qasc-uuup.json?orden=100\" target=\"_blank\">Ejemplo de JSON en la web</a>"
   ]
  },
  {
   "cell_type": "code",
   "execution_count": null,
   "metadata": {},
   "outputs": [],
   "source": [
    "# 20210908181728\n",
    "# https://www.datos.gov.co/resource/qasc-uuup.json?orden=100\n",
    "\n",
    "[\n",
    "  {\n",
    "    \"orden\": \"100\",\n",
    "    \"departamento\": \"SANTANDER\",\n",
    "    \"municipio\": \"BUCARAMANGA\",\n",
    "    \"fecha\": \"28/05/2021\",\n",
    "    \"a_o\": \"mayo\",\n",
    "    \"mes\": \"2021\",\n",
    "    \"dia\": \"viernes\",\n",
    "    \"_1era_dosis\": \"5743\",\n",
    "    \"_2da_dosis\": \"786\",\n",
    "    \"total_aplicada\": \"6529\",\n",
    "    \"astrazeneca\": \"380\",\n",
    "    \"pfizer\": \"3116\",\n",
    "    \"sinovac\": \"2291\",\n",
    "    \"astrazeneca_1era_dosis\": \"346\",\n",
    "    \"pfizer_1era_dosis\": \"2524\",\n",
    "    \"sinovac_1era_dosis\": \"2281\",\n",
    "    \"astrazeneca_2da_dosis\": \"34\",\n",
    "    \"pfizer_2da_dosis\": \"592\",\n",
    "    \"sinovac_2da_dosis\": \"10\",\n",
    "    \"janssen\": \"5\",\n",
    "    \"moderna\": \"742\",\n",
    "    \"moderna_1era_dosis\": \"592\",\n",
    "    \"moderna_2da_dosis\": \"150\",\n",
    "    \"astrazeneca_refuerzo\": \"0\",\n",
    "    \"pfizer_refuerzo\": \"0\",\n",
    "    \"sinovac_refuerzo\": \"0\",\n",
    "    \"janssen_refuerzo\": \"0\",\n",
    "    \"moderna_refuerzo\": \"0\"\n",
    "  }\n",
    "]"
   ]
  },
  {
   "cell_type": "markdown",
   "metadata": {},
   "source": [
    "#### Se hace la importación del módulo $JSON$"
   ]
  },
  {
   "cell_type": "code",
   "execution_count": null,
   "metadata": {},
   "outputs": [],
   "source": [
    "import json"
   ]
  },
  {
   "cell_type": "markdown",
   "metadata": {},
   "source": [
    "#### Lectura de archivos $JSON$ con la función $load()$"
   ]
  },
  {
   "cell_type": "markdown",
   "metadata": {},
   "source": [
    "#### Se pueden ver todo registros por separado línea a línea"
   ]
  },
  {
   "cell_type": "code",
   "execution_count": null,
   "metadata": {},
   "outputs": [],
   "source": [
    "file = open('data/Casos_positivos_de_Covid-19_en_el_departamento_de_Antioquia_20240229.json' , encoding='ISO-8859-1')\n",
    "data = json.load(file)\n",
    "\n",
    "data"
   ]
  },
  {
   "cell_type": "markdown",
   "metadata": {},
   "source": [
    "#### Miremos los datos de un solo paciente."
   ]
  },
  {
   "cell_type": "code",
   "execution_count": null,
   "metadata": {},
   "outputs": [],
   "source": [
    "data[0]"
   ]
  },
  {
   "cell_type": "markdown",
   "metadata": {},
   "source": [
    "#### Extrayendo algunos datos."
   ]
  },
  {
   "cell_type": "code",
   "execution_count": null,
   "metadata": {
    "scrolled": true
   },
   "outputs": [],
   "source": [
    "file = open('data/Casos_positivos_de_Covid-19_en_el_departamento_de_Antioquia_20240229.json' , encoding='ISO-8859-1')\n",
    "data = json.load(file)\n",
    "\n",
    "for patient in data:\n",
    "    try:\n",
    "        print(f\"Edad: {patient['edad']} - -Sexo: {patient['sexo']} - Estado: {patient['estado']} - Recuperación: {patient['tipo_recuperacion']}\")\n",
    "    except KeyError:\n",
    "        print(patient['id_de_caso'])\n",
    "        "
   ]
  },
  {
   "cell_type": "markdown",
   "metadata": {},
   "source": [
    "#### Escribiendo archivos $JSON$ con la función $dump()$"
   ]
  },
  {
   "cell_type": "code",
   "execution_count": null,
   "metadata": {},
   "outputs": [],
   "source": [
    "import json\n",
    "\n",
    "data = {}\n",
    "data['clients'] = [] \n",
    "\n",
    "data['clients'].append({\n",
    "    'nombre': 'Carlos Andrés',\n",
    "    'apellidos': 'Gutierrez Medina',\n",
    "    'edad': 27})\n",
    "\n",
    "data['clients'].append({\n",
    "    'nombre': 'Maria Cristina',\n",
    "    'apellidos': 'Marín Ortiz',\n",
    "    'edad': 31})\n",
    "\n",
    "data['clients'].append({\n",
    "    'nombre': 'Nancy Cecilia',\n",
    "    'apellidos': 'Cortes Ramos',\n",
    "    'edad': 36})\n",
    "\n",
    "file = open('data/data.json', mode='w' , encoding='ISO-8859-1') \n",
    "json.dump(data, file, indent=4 , ensure_ascii= False)\n",
    "file.close()"
   ]
  },
  {
   "cell_type": "code",
   "execution_count": null,
   "metadata": {},
   "outputs": [],
   "source": [
    "import json\n",
    "\n",
    "#data = {}\n",
    "data = [] ### [ {...} , {...} , { ... } ]\n",
    "\n",
    "data.append({\n",
    "    'nombre': 'Carlos Andrés',\n",
    "    'apellidos': 'Gutierrez Medina',\n",
    "    'edad': 27})\n",
    "\n",
    "data.append({\n",
    "    'nombre': 'Maria Cristina',\n",
    "    'apellidos': 'Marín Ortiz',\n",
    "    'edad': 31})\n",
    "\n",
    "data.append({\n",
    "    'nombre': 'Nancy Cecilia',\n",
    "    'apellidos': 'Cortes Ramos',\n",
    "    'edad': 36})\n",
    "\n",
    "#data\n",
    "file = open('data/data2.json', mode='w', encoding='ISO-8859-1')\n",
    "json.dump(data, file, indent=4, ensure_ascii= False)\n",
    "file.close()"
   ]
  },
  {
   "cell_type": "code",
   "execution_count": null,
   "metadata": {},
   "outputs": [],
   "source": []
  },
  {
   "cell_type": "code",
   "execution_count": null,
   "metadata": {},
   "outputs": [],
   "source": []
  },
  {
   "cell_type": "markdown",
   "metadata": {},
   "source": [
    "# $XML$\n",
    "\n",
    "XML es un lenguaje de marcado similar a HTML. Significa \"Extensible Markup Language\" (Lenguaje de Marcado Extensible) y es una especificación de W3C como lenguaje de marcado de propósito general. Esto significa que, a diferencia de otros lenguajes de marcado, XML no está predefinido, por lo que debes definir tus propias etiquetas. El propósito principal del lenguaje es compartir datos a través de diferentes sistemas, como Internet.\n",
    "\n",
    "<a href=\"https://developer.mozilla.org/es/docs/Web/XML/XML_introduction\" target=\"_blank\">Link de documentación XML</a>"
   ]
  },
  {
   "cell_type": "markdown",
   "metadata": {},
   "source": [
    "<message>\n",
    "    <warning>\n",
    "         Hola, mundo\n",
    "    </warning>\n",
    "</message>"
   ]
  },
  {
   "cell_type": "markdown",
   "metadata": {},
   "source": [
    "<?xml version=\"1.0\"?>\n",
    "<data>\n",
    "    <country name=\"Liechtenstein\">\n",
    "        <rank>1</rank>\n",
    "        <year>2008</year>\n",
    "        <gdppc>141100</gdppc>\n",
    "        <neighbor name=\"Austria\" direction=\"E\"/>\n",
    "        <neighbor name=\"Switzerland\" direction=\"W\"/>\n",
    "    </country>\n",
    "    <country name=\"Singapore\">\n",
    "        <rank>4</rank>\n",
    "        <year>2011</year>\n",
    "        <gdppc>59900</gdppc>\n",
    "        <neighbor name=\"Malaysia\" direction=\"N\"/>\n",
    "    </country>\n",
    "    <country name=\"Panama\">\n",
    "        <rank>68</rank>srdtfyguhj\n",
    "        <year name = \"año\">2011</year>Prueba\n",
    "        <gdppc>13600</gdppc>\n",
    "        <neighbor name=\"Costa Rica\" direction=\"W\"/>\n",
    "        <neighbor name=\"Colombia\" direction=\"E\"/>\n",
    "    </country>\n",
    "</data>"
   ]
  },
  {
   "cell_type": "markdown",
   "metadata": {},
   "source": [
    "Cuando leemos el fichero $xml$ anterior con La API XML de $ElementTree$.\n",
    "\n",
    "Cada objeto $Element$ tiene cuatro atributos:\n",
    "\n",
    "* <b>Tag:</b> el nombre de la etiqueta.\n",
    "* <b>Text:</b> El texto guardado dentro de la etiqueta. Este atributo es None si la etiqueta está vacía.\n",
    "* <b>Tail:</b> El texto de un elemento, que está a continuación de otro elemento.\n",
    "* <b>Attrib:</b> Un diccionario python que contiene los nombres y valores de los atributos del elemento."
   ]
  },
  {
   "cell_type": "markdown",
   "metadata": {},
   "source": [
    "<p> To find out \n",
    "    <em>more</em>, see the \n",
    "    <a href=\"http://www.w3.org/XML\">standard</a>.\n",
    "</p>"
   ]
  },
  {
   "cell_type": "markdown",
   "metadata": {},
   "source": [
    "<img src=\"img/xmltree.png\">"
   ]
  },
  {
   "cell_type": "markdown",
   "metadata": {},
   "source": [
    "### Se hace la importación del módulo"
   ]
  },
  {
   "cell_type": "code",
   "execution_count": null,
   "metadata": {},
   "outputs": [],
   "source": [
    "import xml.etree.ElementTree as ET"
   ]
  },
  {
   "cell_type": "markdown",
   "metadata": {},
   "source": [
    "### Carga del archivo $XML$"
   ]
  },
  {
   "cell_type": "code",
   "execution_count": null,
   "metadata": {},
   "outputs": [],
   "source": [
    "tree = ET.parse('data/country_data.xml')\n",
    "root = tree.getroot()"
   ]
  },
  {
   "cell_type": "code",
   "execution_count": null,
   "metadata": {
    "scrolled": true
   },
   "outputs": [],
   "source": [
    "for child in root:\n",
    "    for child2 in child:\n",
    "        print(child2.tag, child2.attrib ,child2.text)"
   ]
  },
  {
   "cell_type": "markdown",
   "metadata": {},
   "source": [
    "También se peude hacer desde un string."
   ]
  },
  {
   "cell_type": "code",
   "execution_count": null,
   "metadata": {},
   "outputs": [],
   "source": [
    "xml = '''<?xml version=\"1.0\"?>\n",
    "<data>\n",
    "    <country name=\"Liechtenstein\">\n",
    "        <rank>1</rank>\n",
    "        <year>2008</year>\n",
    "        <gdppc>141100</gdppc>\n",
    "        <neighbor name=\"Austria\" direction=\"E\"/>\n",
    "        <neighbor name=\"Switzerland\" direction=\"W\"/>\n",
    "    </country>\n",
    "    <country name=\"Singapore\">\n",
    "        <rank>4</rank>\n",
    "        <year>2011</year>\n",
    "        <gdppc>59900</gdppc>\n",
    "        <neighbor name=\"Malaysia\" direction=\"N\"/>\n",
    "    </country>\n",
    "    <country name=\"Panama\">\n",
    "        <rank>68</rank>\n",
    "        <year>2011</year>\n",
    "        <gdppc>13600</gdppc>\n",
    "        <neighbor name=\"Costa Rica\" direction=\"W\"/>\n",
    "        <neighbor name=\"Colombia\" direction=\"E\"/>\n",
    "    </country>\n",
    "</data>'''"
   ]
  },
  {
   "cell_type": "code",
   "execution_count": null,
   "metadata": {},
   "outputs": [],
   "source": [
    "root = ET.fromstring(xml)\n",
    "root"
   ]
  },
  {
   "cell_type": "code",
   "execution_count": null,
   "metadata": {},
   "outputs": [],
   "source": [
    "for child in root:\n",
    "    print(child.tag, child.attrib , child.text , child.tail)"
   ]
  },
  {
   "cell_type": "markdown",
   "metadata": {},
   "source": [
    "### Los hijos están anidados, y podemos acceder a nodos hijos específicos por el índice"
   ]
  },
  {
   "cell_type": "code",
   "execution_count": null,
   "metadata": {},
   "outputs": [],
   "source": [
    "root[0][1].text"
   ]
  },
  {
   "cell_type": "code",
   "execution_count": null,
   "metadata": {},
   "outputs": [],
   "source": [
    "# Se pueden ver también los atributos\n",
    "root[0][3].attrib"
   ]
  },
  {
   "cell_type": "code",
   "execution_count": null,
   "metadata": {},
   "outputs": [],
   "source": [
    "root[0][3].attrib['direction']"
   ]
  },
  {
   "cell_type": "markdown",
   "metadata": {},
   "source": [
    "$Element$ tiene algunos métodos útiles que ayudan a iterar recursivamente sobre todo el sub-árbol por debajo de él (sus hijos, los hijos de sus hijos, y así sucesivamente). Por ejemplo, $Element.iter():$"
   ]
  },
  {
   "cell_type": "code",
   "execution_count": null,
   "metadata": {},
   "outputs": [],
   "source": [
    "for year in root.iter('year'):\n",
    "    print(year.text)"
   ]
  },
  {
   "cell_type": "markdown",
   "metadata": {},
   "source": [
    "- $Element.findall()$ encuentra sólo los elementos con una etiqueta que son hijos directos del elemento actual.\n",
    "- $Element.find()$ encuentra el primer hijo con una etiqueta determinada, y \n",
    "- $Element.get()$ accede a los atributos del elemento:"
   ]
  },
  {
   "cell_type": "code",
   "execution_count": null,
   "metadata": {},
   "outputs": [],
   "source": [
    "for country in root.iter('country'):\n",
    "    rank = country.find('rank').text\n",
    "    name = country.get('name')\n",
    "    print(name, rank )\n"
   ]
  }
 ],
 "metadata": {
  "kernelspec": {
   "display_name": "Python 3 (ipykernel)",
   "language": "python",
   "name": "python3"
  },
  "language_info": {
   "codemirror_mode": {
    "name": "ipython",
    "version": 3
   },
   "file_extension": ".py",
   "mimetype": "text/x-python",
   "name": "python",
   "nbconvert_exporter": "python",
   "pygments_lexer": "ipython3",
   "version": "3.10.9"
  }
 },
 "nbformat": 4,
 "nbformat_minor": 4
}
